{
 "cells": [
  {
   "metadata": {
    "ExecuteTime": {
     "end_time": "2024-07-22T22:22:58.768366Z",
     "start_time": "2024-07-22T22:22:58.765364Z"
    }
   },
   "cell_type": "code",
   "source": [
    "import pandas as pd\n",
    "import numpy as np\n",
    "import matplotlib\n",
    "import matplotlib.pyplot as plt\n",
    "from matplotlib import colors\n",
    "import random\n",
    "from tqdm import tqdm\n",
    "import torch\n",
    "from torch import nn\n",
    "import torch.optim as optim\n",
    "import torch.nn.functional as F\n",
    "from torch.utils.data import DataLoader, TensorDataset\n"
   ],
   "id": "aca3b7afa265d5f4",
   "outputs": [],
   "execution_count": 90
  },
  {
   "metadata": {
    "ExecuteTime": {
     "end_time": "2024-07-22T22:22:59.192742Z",
     "start_time": "2024-07-22T22:22:59.147838Z"
    }
   },
   "cell_type": "code",
   "source": [
    "\n",
    "cmap = colors.LinearSegmentedColormap(\n",
    "    \"red_blue_classes\",\n",
    "    {\n",
    "        \"red\": [(0, 1, 1), (1, 0.7, 0.7)],\n",
    "        \"green\": [(0, 0.7, 0.7), (1, 0.7, 0.7)],\n",
    "        \"blue\": [(0, 0.7, 0.7), (1, 1, 1)],\n",
    "    },\n",
    ")\n",
    "matplotlib.colormaps.register(cmap)\n",
    "\n",
    "random_seed = 42\n",
    "\n",
    "\n",
    "def set_random_seed(random_seed):\n",
    "    \"\"\"\n",
    "    Function to set up random seed to be fixed, so we have consistent results\n",
    "    \"\"\"\n",
    "    torch.manual_seed(random_seed)\n",
    "    np.random.seed(random_seed)\n",
    "    random.seed(random_seed)\n",
    "\n",
    "\n",
    "set_random_seed(random_seed)\n",
    "\n",
    "# exploring the environment of the host, if the use of graphics card is available.\n",
    "print(\"CUDA Available: \", torch.cuda.is_available())\n",
    "print(\"cuDNN Enabled: \", torch.backends.cudnn.enabled)\n",
    "print(\"cuDNN Version: \", torch.backends.cudnn.version())\n",
    "\n",
    "# set up to use deterministic algorithms, so we have consistent results\n",
    "torch.backends.cudnn.deterministic = True"
   ],
   "id": "6c91b95819c95035",
   "outputs": [
    {
     "ename": "ValueError",
     "evalue": "A colormap named \"red_blue_classes\" is already registered.",
     "output_type": "error",
     "traceback": [
      "\u001B[0;31m---------------------------------------------------------------------------\u001B[0m",
      "\u001B[0;31mValueError\u001B[0m                                Traceback (most recent call last)",
      "Cell \u001B[0;32mIn[91], line 9\u001B[0m\n\u001B[1;32m      1\u001B[0m cmap \u001B[38;5;241m=\u001B[39m colors\u001B[38;5;241m.\u001B[39mLinearSegmentedColormap(\n\u001B[1;32m      2\u001B[0m     \u001B[38;5;124m\"\u001B[39m\u001B[38;5;124mred_blue_classes\u001B[39m\u001B[38;5;124m\"\u001B[39m,\n\u001B[1;32m      3\u001B[0m     {\n\u001B[0;32m   (...)\u001B[0m\n\u001B[1;32m      7\u001B[0m     },\n\u001B[1;32m      8\u001B[0m )\n\u001B[0;32m----> 9\u001B[0m \u001B[43mmatplotlib\u001B[49m\u001B[38;5;241;43m.\u001B[39;49m\u001B[43mcolormaps\u001B[49m\u001B[38;5;241;43m.\u001B[39;49m\u001B[43mregister\u001B[49m\u001B[43m(\u001B[49m\u001B[43mcmap\u001B[49m\u001B[43m)\u001B[49m\n\u001B[1;32m     11\u001B[0m random_seed \u001B[38;5;241m=\u001B[39m \u001B[38;5;241m42\u001B[39m\n\u001B[1;32m     14\u001B[0m \u001B[38;5;28;01mdef\u001B[39;00m \u001B[38;5;21mset_random_seed\u001B[39m(random_seed):\n",
      "File \u001B[0;32m~/miniforge3/envs/bi-ml/lib/python3.11/site-packages/matplotlib/cm.py:147\u001B[0m, in \u001B[0;36mColormapRegistry.register\u001B[0;34m(self, cmap, name, force)\u001B[0m\n\u001B[1;32m    143\u001B[0m \u001B[38;5;28;01mif\u001B[39;00m name \u001B[38;5;129;01min\u001B[39;00m \u001B[38;5;28mself\u001B[39m:\n\u001B[1;32m    144\u001B[0m     \u001B[38;5;28;01mif\u001B[39;00m \u001B[38;5;129;01mnot\u001B[39;00m force:\n\u001B[1;32m    145\u001B[0m         \u001B[38;5;66;03m# don't allow registering an already existing cmap\u001B[39;00m\n\u001B[1;32m    146\u001B[0m         \u001B[38;5;66;03m# unless explicitly asked to\u001B[39;00m\n\u001B[0;32m--> 147\u001B[0m         \u001B[38;5;28;01mraise\u001B[39;00m \u001B[38;5;167;01mValueError\u001B[39;00m(\n\u001B[1;32m    148\u001B[0m             \u001B[38;5;124mf\u001B[39m\u001B[38;5;124m'\u001B[39m\u001B[38;5;124mA colormap named \u001B[39m\u001B[38;5;124m\"\u001B[39m\u001B[38;5;132;01m{\u001B[39;00mname\u001B[38;5;132;01m}\u001B[39;00m\u001B[38;5;124m\"\u001B[39m\u001B[38;5;124m is already registered.\u001B[39m\u001B[38;5;124m'\u001B[39m)\n\u001B[1;32m    149\u001B[0m     \u001B[38;5;28;01melif\u001B[39;00m (name \u001B[38;5;129;01min\u001B[39;00m \u001B[38;5;28mself\u001B[39m\u001B[38;5;241m.\u001B[39m_builtin_cmaps\n\u001B[1;32m    150\u001B[0m             \u001B[38;5;129;01mand\u001B[39;00m \u001B[38;5;129;01mnot\u001B[39;00m \u001B[38;5;28mself\u001B[39m\u001B[38;5;241m.\u001B[39m_allow_override_builtin):\n\u001B[1;32m    151\u001B[0m         \u001B[38;5;66;03m# We don't allow overriding a builtin unless privately\u001B[39;00m\n\u001B[1;32m    152\u001B[0m         \u001B[38;5;66;03m# coming from register_cmap()\u001B[39;00m\n\u001B[1;32m    153\u001B[0m         \u001B[38;5;28;01mraise\u001B[39;00m \u001B[38;5;167;01mValueError\u001B[39;00m(\u001B[38;5;124m\"\u001B[39m\u001B[38;5;124mRe-registering the builtin cmap \u001B[39m\u001B[38;5;124m\"\u001B[39m\n\u001B[1;32m    154\u001B[0m                          \u001B[38;5;124mf\u001B[39m\u001B[38;5;124m\"\u001B[39m\u001B[38;5;132;01m{\u001B[39;00mname\u001B[38;5;132;01m!r}\u001B[39;00m\u001B[38;5;124m is not allowed.\u001B[39m\u001B[38;5;124m\"\u001B[39m)\n",
      "\u001B[0;31mValueError\u001B[0m: A colormap named \"red_blue_classes\" is already registered."
     ]
    }
   ],
   "execution_count": 91
  },
  {
   "metadata": {},
   "cell_type": "markdown",
   "source": "# Data",
   "id": "2d3eeb40983b7131"
  },
  {
   "metadata": {},
   "cell_type": "markdown",
   "source": "A credit score is a numerical representation of a person's creditworthiness. It is based on an individual's credit history, which includes factors such as how much debt they have, their payment history, the length of their credit history, the types of credit they have used, and recent credit inquiries.",
   "id": "c1e003f652a74203"
  },
  {
   "metadata": {
    "ExecuteTime": {
     "end_time": "2024-07-22T22:23:00.908745Z",
     "start_time": "2024-07-22T22:23:00.902599Z"
    }
   },
   "cell_type": "code",
   "source": [
    "df_data = pd.read_csv('data.csv')\n",
    "df_data.head()"
   ],
   "id": "e8510818cc53af2a",
   "outputs": [
    {
     "data": {
      "text/plain": [
       "   Monthly Salary (CZK)  Credit Score  Loan Approved\n",
       "0          17322.625930    320.339409              0\n",
       "1          17696.524569    256.730055              0\n",
       "2          17798.603219    301.174837              0\n",
       "3          28957.762157    422.280940              1\n",
       "4          22401.138392    602.256374              1"
      ],
      "text/html": [
       "<div>\n",
       "<style scoped>\n",
       "    .dataframe tbody tr th:only-of-type {\n",
       "        vertical-align: middle;\n",
       "    }\n",
       "\n",
       "    .dataframe tbody tr th {\n",
       "        vertical-align: top;\n",
       "    }\n",
       "\n",
       "    .dataframe thead th {\n",
       "        text-align: right;\n",
       "    }\n",
       "</style>\n",
       "<table border=\"1\" class=\"dataframe\">\n",
       "  <thead>\n",
       "    <tr style=\"text-align: right;\">\n",
       "      <th></th>\n",
       "      <th>Monthly Salary (CZK)</th>\n",
       "      <th>Credit Score</th>\n",
       "      <th>Loan Approved</th>\n",
       "    </tr>\n",
       "  </thead>\n",
       "  <tbody>\n",
       "    <tr>\n",
       "      <th>0</th>\n",
       "      <td>17322.625930</td>\n",
       "      <td>320.339409</td>\n",
       "      <td>0</td>\n",
       "    </tr>\n",
       "    <tr>\n",
       "      <th>1</th>\n",
       "      <td>17696.524569</td>\n",
       "      <td>256.730055</td>\n",
       "      <td>0</td>\n",
       "    </tr>\n",
       "    <tr>\n",
       "      <th>2</th>\n",
       "      <td>17798.603219</td>\n",
       "      <td>301.174837</td>\n",
       "      <td>0</td>\n",
       "    </tr>\n",
       "    <tr>\n",
       "      <th>3</th>\n",
       "      <td>28957.762157</td>\n",
       "      <td>422.280940</td>\n",
       "      <td>1</td>\n",
       "    </tr>\n",
       "    <tr>\n",
       "      <th>4</th>\n",
       "      <td>22401.138392</td>\n",
       "      <td>602.256374</td>\n",
       "      <td>1</td>\n",
       "    </tr>\n",
       "  </tbody>\n",
       "</table>\n",
       "</div>"
      ]
     },
     "execution_count": 92,
     "metadata": {},
     "output_type": "execute_result"
    }
   ],
   "execution_count": 92
  },
  {
   "metadata": {
    "ExecuteTime": {
     "end_time": "2024-07-22T22:23:01.427210Z",
     "start_time": "2024-07-22T22:23:01.279179Z"
    }
   },
   "cell_type": "code",
   "source": [
    "def plot_data(x, y, labels, ax):\n",
    "    scatter = ax.scatter(x, y, c=labels, cmap='bwr_r',\n",
    "                         s=15)\n",
    "    ax.set_xlabel('Monthly Salary (CZK)')\n",
    "    ax.set_ylabel('Credit Score')\n",
    "    ax.set_title('Salary vs Credit Score in Loan Approval')\n",
    "    legend_elements, _ = scatter.legend_elements()\n",
    "    ax.legend(handles=legend_elements, labels=['Rejected', 'Approved'], loc='lower right')\n",
    "\n",
    "\n",
    "fig, ax = plt.subplots()\n",
    "plot_data(df_data['Monthly Salary (CZK)'], df_data['Credit Score'], df_data['Loan Approved'], ax)"
   ],
   "id": "c0d9e9b9fa622125",
   "outputs": [
    {
     "data": {
      "text/plain": [
       "<Figure size 640x480 with 1 Axes>"
      ],
      "image/png": "[encoded data removed]"
     },
     "metadata": {},
     "output_type": "display_data"
    }
   ],
   "execution_count": 93
  },
  {
   "metadata": {
    "ExecuteTime": {
     "end_time": "2024-07-22T22:23:01.752084Z",
     "start_time": "2024-07-22T22:23:01.748824Z"
    }
   },
   "cell_type": "code",
   "source": [
    "X_train = df_data.drop(['Loan Approved'], axis=1)\n",
    "y_train = df_data['Loan Approved']"
   ],
   "id": "737e8eef41a00e8",
   "outputs": [],
   "execution_count": 94
  },
  {
   "metadata": {
    "ExecuteTime": {
     "end_time": "2024-07-22T22:23:02.183260Z",
     "start_time": "2024-07-22T22:23:02.178055Z"
    }
   },
   "cell_type": "code",
   "source": "X_train.head()",
   "id": "772bf2b374b606f8",
   "outputs": [
    {
     "data": {
      "text/plain": [
       "   Monthly Salary (CZK)  Credit Score\n",
       "0          17322.625930    320.339409\n",
       "1          17696.524569    256.730055\n",
       "2          17798.603219    301.174837\n",
       "3          28957.762157    422.280940\n",
       "4          22401.138392    602.256374"
      ],
      "text/html": [
       "<div>\n",
       "<style scoped>\n",
       "    .dataframe tbody tr th:only-of-type {\n",
       "        vertical-align: middle;\n",
       "    }\n",
       "\n",
       "    .dataframe tbody tr th {\n",
       "        vertical-align: top;\n",
       "    }\n",
       "\n",
       "    .dataframe thead th {\n",
       "        text-align: right;\n",
       "    }\n",
       "</style>\n",
       "<table border=\"1\" class=\"dataframe\">\n",
       "  <thead>\n",
       "    <tr style=\"text-align: right;\">\n",
       "      <th></th>\n",
       "      <th>Monthly Salary (CZK)</th>\n",
       "      <th>Credit Score</th>\n",
       "    </tr>\n",
       "  </thead>\n",
       "  <tbody>\n",
       "    <tr>\n",
       "      <th>0</th>\n",
       "      <td>17322.625930</td>\n",
       "      <td>320.339409</td>\n",
       "    </tr>\n",
       "    <tr>\n",
       "      <th>1</th>\n",
       "      <td>17696.524569</td>\n",
       "      <td>256.730055</td>\n",
       "    </tr>\n",
       "    <tr>\n",
       "      <th>2</th>\n",
       "      <td>17798.603219</td>\n",
       "      <td>301.174837</td>\n",
       "    </tr>\n",
       "    <tr>\n",
       "      <th>3</th>\n",
       "      <td>28957.762157</td>\n",
       "      <td>422.280940</td>\n",
       "    </tr>\n",
       "    <tr>\n",
       "      <th>4</th>\n",
       "      <td>22401.138392</td>\n",
       "      <td>602.256374</td>\n",
       "    </tr>\n",
       "  </tbody>\n",
       "</table>\n",
       "</div>"
      ]
     },
     "execution_count": 95,
     "metadata": {},
     "output_type": "execute_result"
    }
   ],
   "execution_count": 95
  },
  {
   "metadata": {
    "ExecuteTime": {
     "end_time": "2024-07-22T22:23:02.562867Z",
     "start_time": "2024-07-22T22:23:02.559023Z"
    }
   },
   "cell_type": "code",
   "source": "y_train.head()",
   "id": "175976ee0472b2d2",
   "outputs": [
    {
     "data": {
      "text/plain": [
       "0    0\n",
       "1    0\n",
       "2    0\n",
       "3    1\n",
       "4    1\n",
       "Name: Loan Approved, dtype: int64"
      ]
     },
     "execution_count": 96,
     "metadata": {},
     "output_type": "execute_result"
    }
   ],
   "execution_count": 96
  },
  {
   "metadata": {},
   "cell_type": "markdown",
   "source": [
    "# Model\n",
    "\n",
    "- ukazat rozhodovaci hranici - nejprve na logisticke regresi - neco velmi jednoducheho\n",
    "- pote na neuronove siti\n",
    "- je dobre porovnat log regresi a sit, protoze log regrese je odolnejsi k data poisoningu\n",
    "- pote ukazat ten web playground"
   ],
   "id": "5e9feef0e10ebd35"
  },
  {
   "metadata": {
    "ExecuteTime": {
     "end_time": "2024-07-22T22:23:05.225618Z",
     "start_time": "2024-07-22T22:23:05.214378Z"
    }
   },
   "cell_type": "code",
   "source": [
    "from sklearn.linear_model import LogisticRegression\n",
    "\n",
    "# Train the logistic regression model\n",
    "log_reg_model = LogisticRegression()\n",
    "log_reg_model.fit(X_train.to_numpy(), y_train.to_numpy())"
   ],
   "id": "88eff4d27409b82c",
   "outputs": [
    {
     "data": {
      "text/plain": [
       "LogisticRegression()"
      ],
      "text/html": [
       "<style>#sk-container-id-4 {\n",
       "  /* Definition of color scheme common for light and dark mode */\n",
       "  --sklearn-color-text: black;\n",
       "  --sklearn-color-line: gray;\n",
       "  /* Definition of color scheme for unfitted estimators */\n",
       "  --sklearn-color-unfitted-level-0: #fff5e6;\n",
       "  --sklearn-color-unfitted-level-1: #f6e4d2;\n",
       "  --sklearn-color-unfitted-level-2: #ffe0b3;\n",
       "  --sklearn-color-unfitted-level-3: chocolate;\n",
       "  /* Definition of color scheme for fitted estimators */\n",
       "  --sklearn-color-fitted-level-0: #f0f8ff;\n",
       "  --sklearn-color-fitted-level-1: #d4ebff;\n",
       "  --sklearn-color-fitted-level-2: #b3dbfd;\n",
       "  --sklearn-color-fitted-level-3: cornflowerblue;\n",
       "\n",
       "  /* Specific color for light theme */\n",
       "  --sklearn-color-text-on-default-background: var(--sg-text-color, var(--theme-code-foreground, var(--jp-content-font-color1, black)));\n",
       "  --sklearn-color-background: var(--sg-background-color, var(--theme-background, var(--jp-layout-color0, white)));\n",
       "  --sklearn-color-border-box: var(--sg-text-color, var(--theme-code-foreground, var(--jp-content-font-color1, black)));\n",
       "  --sklearn-color-icon: #696969;\n",
       "\n",
       "  @media (prefers-color-scheme: dark) {\n",
       "    /* Redefinition of color scheme for dark theme */\n",
       "    --sklearn-color-text-on-default-background: var(--sg-text-color, var(--theme-code-foreground, var(--jp-content-font-color1, white)));\n",
       "    --sklearn-color-background: var(--sg-background-color, var(--theme-background, var(--jp-layout-color0, #111)));\n",
       "    --sklearn-color-border-box: var(--sg-text-color, var(--theme-code-foreground, var(--jp-content-font-color1, white)));\n",
       "    --sklearn-color-icon: #878787;\n",
       "  }\n",
       "}\n",
       "\n",
       "#sk-container-id-4 {\n",
       "  color: var(--sklearn-color-text);\n",
       "}\n",
       "\n",
       "#sk-container-id-4 pre {\n",
       "  padding: 0;\n",
       "}\n",
       "\n",
       "#sk-container-id-4 input.sk-hidden--visually {\n",
       "  border: 0;\n",
       "  clip: rect(1px 1px 1px 1px);\n",
       "  clip: rect(1px, 1px, 1px, 1px);\n",
       "  height: 1px;\n",
       "  margin: -1px;\n",
       "  overflow: hidden;\n",
       "  padding: 0;\n",
       "  position: absolute;\n",
       "  width: 1px;\n",
       "}\n",
       "\n",
       "#sk-container-id-4 div.sk-dashed-wrapped {\n",
       "  border: 1px dashed var(--sklearn-color-line);\n",
       "  margin: 0 0.4em 0.5em 0.4em;\n",
       "  box-sizing: border-box;\n",
       "  padding-bottom: 0.4em;\n",
       "  background-color: var(--sklearn-color-background);\n",
       "}\n",
       "\n",
       "#sk-container-id-4 div.sk-container {\n",
       "  /* jupyter's `normalize.less` sets `[hidden] { display: none; }`\n",
       "     but bootstrap.min.css set `[hidden] { display: none !important; }`\n",
       "     so we also need the `!important` here to be able to override the\n",
       "     default hidden behavior on the sphinx rendered scikit-learn.org.\n",
       "     See: https://github.com/scikit-learn/scikit-learn/issues/21755 */\n",
       "  display: inline-block !important;\n",
       "  position: relative;\n",
       "}\n",
       "\n",
       "#sk-container-id-4 div.sk-text-repr-fallback {\n",
       "  display: none;\n",
       "}\n",
       "\n",
       "div.sk-parallel-item,\n",
       "div.sk-serial,\n",
       "div.sk-item {\n",
       "  /* draw centered vertical line to link estimators */\n",
       "  background-image: linear-gradient(var(--sklearn-color-text-on-default-background), var(--sklearn-color-text-on-default-background));\n",
       "  background-size: 2px 100%;\n",
       "  background-repeat: no-repeat;\n",
       "  background-position: center center;\n",
       "}\n",
       "\n",
       "/* Parallel-specific style estimator block */\n",
       "\n",
       "#sk-container-id-4 div.sk-parallel-item::after {\n",
       "  content: \"\";\n",
       "  width: 100%;\n",
       "  border-bottom: 2px solid var(--sklearn-color-text-on-default-background);\n",
       "  flex-grow: 1;\n",
       "}\n",
       "\n",
       "#sk-container-id-4 div.sk-parallel {\n",
       "  display: flex;\n",
       "  align-items: stretch;\n",
       "  justify-content: center;\n",
       "  background-color: var(--sklearn-color-background);\n",
       "  position: relative;\n",
       "}\n",
       "\n",
       "#sk-container-id-4 div.sk-parallel-item {\n",
       "  display: flex;\n",
       "  flex-direction: column;\n",
       "}\n",
       "\n",
       "#sk-container-id-4 div.sk-parallel-item:first-child::after {\n",
       "  align-self: flex-end;\n",
       "  width: 50%;\n",
       "}\n",
       "\n",
       "#sk-container-id-4 div.sk-parallel-item:last-child::after {\n",
       "  align-self: flex-start;\n",
       "  width: 50%;\n",
       "}\n",
       "\n",
       "#sk-container-id-4 div.sk-parallel-item:only-child::after {\n",
       "  width: 0;\n",
       "}\n",
       "\n",
       "/* Serial-specific style estimator block */\n",
       "\n",
       "#sk-container-id-4 div.sk-serial {\n",
       "  display: flex;\n",
       "  flex-direction: column;\n",
       "  align-items: center;\n",
       "  background-color: var(--sklearn-color-background);\n",
       "  padding-right: 1em;\n",
       "  padding-left: 1em;\n",
       "}\n",
       "\n",
       "\n",
       "/* Toggleable style: style used for estimator/Pipeline/ColumnTransformer box that is\n",
       "clickable and can be expanded/collapsed.\n",
       "- Pipeline and ColumnTransformer use this feature and define the default style\n",
       "- Estimators will overwrite some part of the style using the `sk-estimator` class\n",
       "*/\n",
       "\n",
       "/* Pipeline and ColumnTransformer style (default) */\n",
       "\n",
       "#sk-container-id-4 div.sk-toggleable {\n",
       "  /* Default theme specific background. It is overwritten whether we have a\n",
       "  specific estimator or a Pipeline/ColumnTransformer */\n",
       "  background-color: var(--sklearn-color-background);\n",
       "}\n",
       "\n",
       "/* Toggleable label */\n",
       "#sk-container-id-4 label.sk-toggleable__label {\n",
       "  cursor: pointer;\n",
       "  display: block;\n",
       "  width: 100%;\n",
       "  margin-bottom: 0;\n",
       "  padding: 0.5em;\n",
       "  box-sizing: border-box;\n",
       "  text-align: center;\n",
       "}\n",
       "\n",
       "#sk-container-id-4 label.sk-toggleable__label-arrow:before {\n",
       "  /* Arrow on the left of the label */\n",
       "  content: \"▸\";\n",
       "  float: left;\n",
       "  margin-right: 0.25em;\n",
       "  color: var(--sklearn-color-icon);\n",
       "}\n",
       "\n",
       "#sk-container-id-4 label.sk-toggleable__label-arrow:hover:before {\n",
       "  color: var(--sklearn-color-text);\n",
       "}\n",
       "\n",
       "/* Toggleable content - dropdown */\n",
       "\n",
       "#sk-container-id-4 div.sk-toggleable__content {\n",
       "  max-height: 0;\n",
       "  max-width: 0;\n",
       "  overflow: hidden;\n",
       "  text-align: left;\n",
       "  /* unfitted */\n",
       "  background-color: var(--sklearn-color-unfitted-level-0);\n",
       "}\n",
       "\n",
       "#sk-container-id-4 div.sk-toggleable__content.fitted {\n",
       "  /* fitted */\n",
       "  background-color: var(--sklearn-color-fitted-level-0);\n",
       "}\n",
       "\n",
       "#sk-container-id-4 div.sk-toggleable__content pre {\n",
       "  margin: 0.2em;\n",
       "  border-radius: 0.25em;\n",
       "  color: var(--sklearn-color-text);\n",
       "  /* unfitted */\n",
       "  background-color: var(--sklearn-color-unfitted-level-0);\n",
       "}\n",
       "\n",
       "#sk-container-id-4 div.sk-toggleable__content.fitted pre {\n",
       "  /* unfitted */\n",
       "  background-color: var(--sklearn-color-fitted-level-0);\n",
       "}\n",
       "\n",
       "#sk-container-id-4 input.sk-toggleable__control:checked~div.sk-toggleable__content {\n",
       "  /* Expand drop-down */\n",
       "  max-height: 200px;\n",
       "  max-width: 100%;\n",
       "  overflow: auto;\n",
       "}\n",
       "\n",
       "#sk-container-id-4 input.sk-toggleable__control:checked~label.sk-toggleable__label-arrow:before {\n",
       "  content: \"▾\";\n",
       "}\n",
       "\n",
       "/* Pipeline/ColumnTransformer-specific style */\n",
       "\n",
       "#sk-container-id-4 div.sk-label input.sk-toggleable__control:checked~label.sk-toggleable__label {\n",
       "  color: var(--sklearn-color-text);\n",
       "  background-color: var(--sklearn-color-unfitted-level-2);\n",
       "}\n",
       "\n",
       "#sk-container-id-4 div.sk-label.fitted input.sk-toggleable__control:checked~label.sk-toggleable__label {\n",
       "  background-color: var(--sklearn-color-fitted-level-2);\n",
       "}\n",
       "\n",
       "/* Estimator-specific style */\n",
       "\n",
       "/* Colorize estimator box */\n",
       "#sk-container-id-4 div.sk-estimator input.sk-toggleable__control:checked~label.sk-toggleable__label {\n",
       "  /* unfitted */\n",
       "  background-color: var(--sklearn-color-unfitted-level-2);\n",
       "}\n",
       "\n",
       "#sk-container-id-4 div.sk-estimator.fitted input.sk-toggleable__control:checked~label.sk-toggleable__label {\n",
       "  /* fitted */\n",
       "  background-color: var(--sklearn-color-fitted-level-2);\n",
       "}\n",
       "\n",
       "#sk-container-id-4 div.sk-label label.sk-toggleable__label,\n",
       "#sk-container-id-4 div.sk-label label {\n",
       "  /* The background is the default theme color */\n",
       "  color: var(--sklearn-color-text-on-default-background);\n",
       "}\n",
       "\n",
       "/* On hover, darken the color of the background */\n",
       "#sk-container-id-4 div.sk-label:hover label.sk-toggleable__label {\n",
       "  color: var(--sklearn-color-text);\n",
       "  background-color: var(--sklearn-color-unfitted-level-2);\n",
       "}\n",
       "\n",
       "/* Label box, darken color on hover, fitted */\n",
       "#sk-container-id-4 div.sk-label.fitted:hover label.sk-toggleable__label.fitted {\n",
       "  color: var(--sklearn-color-text);\n",
       "  background-color: var(--sklearn-color-fitted-level-2);\n",
       "}\n",
       "\n",
       "/* Estimator label */\n",
       "\n",
       "#sk-container-id-4 div.sk-label label {\n",
       "  font-family: monospace;\n",
       "  font-weight: bold;\n",
       "  display: inline-block;\n",
       "  line-height: 1.2em;\n",
       "}\n",
       "\n",
       "#sk-container-id-4 div.sk-label-container {\n",
       "  text-align: center;\n",
       "}\n",
       "\n",
       "/* Estimator-specific */\n",
       "#sk-container-id-4 div.sk-estimator {\n",
       "  font-family: monospace;\n",
       "  border: 1px dotted var(--sklearn-color-border-box);\n",
       "  border-radius: 0.25em;\n",
       "  box-sizing: border-box;\n",
       "  margin-bottom: 0.5em;\n",
       "  /* unfitted */\n",
       "  background-color: var(--sklearn-color-unfitted-level-0);\n",
       "}\n",
       "\n",
       "#sk-container-id-4 div.sk-estimator.fitted {\n",
       "  /* fitted */\n",
       "  background-color: var(--sklearn-color-fitted-level-0);\n",
       "}\n",
       "\n",
       "/* on hover */\n",
       "#sk-container-id-4 div.sk-estimator:hover {\n",
       "  /* unfitted */\n",
       "  background-color: var(--sklearn-color-unfitted-level-2);\n",
       "}\n",
       "\n",
       "#sk-container-id-4 div.sk-estimator.fitted:hover {\n",
       "  /* fitted */\n",
       "  background-color: var(--sklearn-color-fitted-level-2);\n",
       "}\n",
       "\n",
       "/* Specification for estimator info (e.g. \"i\" and \"?\") */\n",
       "\n",
       "/* Common style for \"i\" and \"?\" */\n",
       "\n",
       ".sk-estimator-doc-link,\n",
       "a:link.sk-estimator-doc-link,\n",
       "a:visited.sk-estimator-doc-link {\n",
       "  float: right;\n",
       "  font-size: smaller;\n",
       "  line-height: 1em;\n",
       "  font-family: monospace;\n",
       "  background-color: var(--sklearn-color-background);\n",
       "  border-radius: 1em;\n",
       "  height: 1em;\n",
       "  width: 1em;\n",
       "  text-decoration: none !important;\n",
       "  margin-left: 1ex;\n",
       "  /* unfitted */\n",
       "  border: var(--sklearn-color-unfitted-level-1) 1pt solid;\n",
       "  color: var(--sklearn-color-unfitted-level-1);\n",
       "}\n",
       "\n",
       ".sk-estimator-doc-link.fitted,\n",
       "a:link.sk-estimator-doc-link.fitted,\n",
       "a:visited.sk-estimator-doc-link.fitted {\n",
       "  /* fitted */\n",
       "  border: var(--sklearn-color-fitted-level-1) 1pt solid;\n",
       "  color: var(--sklearn-color-fitted-level-1);\n",
       "}\n",
       "\n",
       "/* On hover */\n",
       "div.sk-estimator:hover .sk-estimator-doc-link:hover,\n",
       ".sk-estimator-doc-link:hover,\n",
       "div.sk-label-container:hover .sk-estimator-doc-link:hover,\n",
       ".sk-estimator-doc-link:hover {\n",
       "  /* unfitted */\n",
       "  background-color: var(--sklearn-color-unfitted-level-3);\n",
       "  color: var(--sklearn-color-background);\n",
       "  text-decoration: none;\n",
       "}\n",
       "\n",
       "div.sk-estimator.fitted:hover .sk-estimator-doc-link.fitted:hover,\n",
       ".sk-estimator-doc-link.fitted:hover,\n",
       "div.sk-label-container:hover .sk-estimator-doc-link.fitted:hover,\n",
       ".sk-estimator-doc-link.fitted:hover {\n",
       "  /* fitted */\n",
       "  background-color: var(--sklearn-color-fitted-level-3);\n",
       "  color: var(--sklearn-color-background);\n",
       "  text-decoration: none;\n",
       "}\n",
       "\n",
       "/* Span, style for the box shown on hovering the info icon */\n",
       ".sk-estimator-doc-link span {\n",
       "  display: none;\n",
       "  z-index: 9999;\n",
       "  position: relative;\n",
       "  font-weight: normal;\n",
       "  right: .2ex;\n",
       "  padding: .5ex;\n",
       "  margin: .5ex;\n",
       "  width: min-content;\n",
       "  min-width: 20ex;\n",
       "  max-width: 50ex;\n",
       "  color: var(--sklearn-color-text);\n",
       "  box-shadow: 2pt 2pt 4pt #999;\n",
       "  /* unfitted */\n",
       "  background: var(--sklearn-color-unfitted-level-0);\n",
       "  border: .5pt solid var(--sklearn-color-unfitted-level-3);\n",
       "}\n",
       "\n",
       ".sk-estimator-doc-link.fitted span {\n",
       "  /* fitted */\n",
       "  background: var(--sklearn-color-fitted-level-0);\n",
       "  border: var(--sklearn-color-fitted-level-3);\n",
       "}\n",
       "\n",
       ".sk-estimator-doc-link:hover span {\n",
       "  display: block;\n",
       "}\n",
       "\n",
       "/* \"?\"-specific style due to the `<a>` HTML tag */\n",
       "\n",
       "#sk-container-id-4 a.estimator_doc_link {\n",
       "  float: right;\n",
       "  font-size: 1rem;\n",
       "  line-height: 1em;\n",
       "  font-family: monospace;\n",
       "  background-color: var(--sklearn-color-background);\n",
       "  border-radius: 1rem;\n",
       "  height: 1rem;\n",
       "  width: 1rem;\n",
       "  text-decoration: none;\n",
       "  /* unfitted */\n",
       "  color: var(--sklearn-color-unfitted-level-1);\n",
       "  border: var(--sklearn-color-unfitted-level-1) 1pt solid;\n",
       "}\n",
       "\n",
       "#sk-container-id-4 a.estimator_doc_link.fitted {\n",
       "  /* fitted */\n",
       "  border: var(--sklearn-color-fitted-level-1) 1pt solid;\n",
       "  color: var(--sklearn-color-fitted-level-1);\n",
       "}\n",
       "\n",
       "/* On hover */\n",
       "#sk-container-id-4 a.estimator_doc_link:hover {\n",
       "  /* unfitted */\n",
       "  background-color: var(--sklearn-color-unfitted-level-3);\n",
       "  color: var(--sklearn-color-background);\n",
       "  text-decoration: none;\n",
       "}\n",
       "\n",
       "#sk-container-id-4 a.estimator_doc_link.fitted:hover {\n",
       "  /* fitted */\n",
       "  background-color: var(--sklearn-color-fitted-level-3);\n",
       "}\n",
       "</style><div id=\"sk-container-id-4\" class=\"sk-top-container\"><div class=\"sk-text-repr-fallback\"><pre>LogisticRegression()</pre><b>In a Jupyter environment, please rerun this cell to show the HTML representation or trust the notebook. <br />On GitHub, the HTML representation is unable to render, please try loading this page with nbviewer.org.</b></div><div class=\"sk-container\" hidden><div class=\"sk-item\"><div class=\"sk-estimator fitted sk-toggleable\"><input class=\"sk-toggleable__control sk-hidden--visually\" id=\"sk-estimator-id-4\" type=\"checkbox\" checked><label for=\"sk-estimator-id-4\" class=\"sk-toggleable__label fitted sk-toggleable__label-arrow fitted\">&nbsp;&nbsp;LogisticRegression<a class=\"sk-estimator-doc-link fitted\" rel=\"noreferrer\" target=\"_blank\" href=\"https://scikit-learn.org/1.4/modules/generated/sklearn.linear_model.LogisticRegression.html\">?<span>Documentation for LogisticRegression</span></a><span class=\"sk-estimator-doc-link fitted\">i<span>Fitted</span></span></label><div class=\"sk-toggleable__content fitted\"><pre>LogisticRegression()</pre></div> </div></div></div></div>"
      ]
     },
     "execution_count": 97,
     "metadata": {},
     "output_type": "execute_result"
    }
   ],
   "execution_count": 97
  },
  {
   "metadata": {
    "ExecuteTime": {
     "end_time": "2024-07-22T22:25:41.530527Z",
     "start_time": "2024-07-22T22:25:40.215996Z"
    }
   },
   "cell_type": "code",
   "source": [
    "def plot_decision_boundary(X, y, model):\n",
    "    fig, ax = plt.subplots()\n",
    "\n",
    "    margin_factor = 0.3\n",
    "    x_min, x_max = X[:, 0].min() - margin_factor * X[:, 0].std(), X[:, 0].max() + margin_factor * X[:, 0].std()\n",
    "    y_min, y_max = X[:, 1].min() - margin_factor * X[:, 1].std(), X[:, 1].max() + margin_factor * X[:, 1].std()\n",
    "    xx, yy = np.meshgrid(np.arange(x_min, x_max, 10), np.arange(y_min, y_max, 1))\n",
    "    Z = model.predict(np.c_[xx.ravel(), yy.ravel()])\n",
    "    print(Z)\n",
    "    Z = Z.reshape(xx.shape)\n",
    "    ax.pcolormesh(\n",
    "        xx, yy, Z, cmap=\"red_blue_classes\", norm=colors.Normalize(0.0, 1.0), zorder=0\n",
    "    )\n",
    "    ax.contour(xx, yy, Z, [0.5], linewidths=1.0, colors=\"white\")\n",
    "    plot_data(X[:, 0], X[:, 1], y, ax)\n",
    "\n",
    "\n",
    "plot_decision_boundary(X_train.to_numpy(), y_train.to_numpy(), log_reg_model)"
   ],
   "id": "e157617d933d3283",
   "outputs": [
    {
     "name": "stdout",
     "output_type": "stream",
     "text": [
      "[0 0 0 ... 1 1 1]\n"
     ]
    },
    {
     "data": {
      "text/plain": [
       "<Figure size 640x480 with 1 Axes>"
      ],
      "image/png": "[encoded data removed]"
     },
     "metadata": {},
     "output_type": "display_data"
    }
   ],
   "execution_count": 107
  },
  {
   "metadata": {
    "ExecuteTime": {
     "end_time": "2024-07-22T22:23:08.202239Z",
     "start_time": "2024-07-22T22:23:08.197933Z"
    }
   },
   "cell_type": "code",
   "source": [
    "class SimpleNN(nn.Module):\n",
    "    def __init__(self):\n",
    "        super().__init__()\n",
    "        self.fully_connected_1 = nn.Linear(2, 10)\n",
    "        self.batch_normalization_1 = nn.BatchNorm1d(10)\n",
    "        self.fully_connected_2 = nn.Linear(10, 10)\n",
    "        self.batch_normalization_2 = nn.BatchNorm1d(10)\n",
    "        self.fully_connected_3 = nn.Linear(10, 1)\n",
    "\n",
    "    def forward(self, x):\n",
    "        x = F.relu(self.batch_normalization_1(self.fully_connected_1(x)))\n",
    "        x = F.relu(self.batch_normalization_2(self.fully_connected_2(x)))\n",
    "        x = torch.sigmoid(self.fully_connected_3(x))\n",
    "        return x\n",
    "\n",
    "    def predict(self, x):\n",
    "        x_tensor = torch.tensor(x, dtype=torch.float32)\n",
    "        with torch.no_grad():\n",
    "            probabilities = self(x_tensor)\n",
    "            predictions = (probabilities.detach().numpy() > 0.5).astype(int)\n",
    "        return predictions"
   ],
   "id": "1d9bd0ab3a56a37d",
   "outputs": [],
   "execution_count": 99
  },
  {
   "metadata": {
    "ExecuteTime": {
     "end_time": "2024-07-22T22:23:09.025156Z",
     "start_time": "2024-07-22T22:23:09.021206Z"
    }
   },
   "cell_type": "code",
   "source": [
    "def train(model, X, y):\n",
    "    set_random_seed(random_seed)\n",
    "\n",
    "    # Convert data to PyTorch tensors\n",
    "    X_train_tensor = torch.tensor(X, dtype=torch.float32)\n",
    "    y_train_tensor = torch.tensor(y, dtype=torch.float32).view(-1, 1)\n",
    "\n",
    "    # Create a DataLoader\n",
    "    dataset = TensorDataset(X_train_tensor, y_train_tensor)\n",
    "    dataloader = DataLoader(dataset, batch_size=16, shuffle=True)\n",
    "\n",
    "    # Initialize the model, loss function, and optimizer\n",
    "    loss_function = nn.BCELoss()\n",
    "    optimizer = optim.Adam(model.parameters())\n",
    "\n",
    "    # Train the model\n",
    "    for epoch in tqdm(range(200), desc=\"Epochs\"):\n",
    "        for batch_X, batch_y in dataloader:\n",
    "            optimizer.zero_grad()\n",
    "            outputs = model(batch_X)\n",
    "            loss = loss_function(outputs, batch_y)\n",
    "            loss.backward()\n",
    "            optimizer.step()"
   ],
   "id": "d203b7f693981ee4",
   "outputs": [],
   "execution_count": 100
  },
  {
   "metadata": {
    "ExecuteTime": {
     "end_time": "2024-07-22T22:23:22.880046Z",
     "start_time": "2024-07-22T22:23:19.484858Z"
    }
   },
   "cell_type": "code",
   "source": [
    "nn_model = SimpleNN()\n",
    "train(nn_model, X_train.to_numpy(), y_train.to_numpy())"
   ],
   "id": "1c37081c943067b",
   "outputs": [
    {
     "name": "stderr",
     "output_type": "stream",
     "text": [
      "Epochs: 100%|██████████| 200/200 [00:03<00:00, 59.02it/s]\n"
     ]
    }
   ],
   "execution_count": 103
  },
  {
   "metadata": {
    "ExecuteTime": {
     "end_time": "2024-07-22T22:23:25.088473Z",
     "start_time": "2024-07-22T22:23:23.547203Z"
    }
   },
   "cell_type": "code",
   "source": "plot_decision_boundary(X_train.to_numpy(), y_train.to_numpy(), nn_model)",
   "id": "3bb29e2343cb965d",
   "outputs": [
    {
     "data": {
      "text/plain": [
       "<Figure size 640x480 with 1 Axes>"
      ],
      "image/png": "[encoded data removed]"
     },
     "metadata": {},
     "output_type": "display_data"
    }
   ],
   "execution_count": 104
  },
  {
   "metadata": {},
   "cell_type": "markdown",
   "source": [
    "# Data Poisoning\n",
    "- pridata data tak, aby vznikla bublina pro hackera, o ktere vi jenom on a muze tak obejit system"
   ],
   "id": "dc178130f69c06ad"
  },
  {
   "metadata": {},
   "cell_type": "code",
   "source": [
    "# Poison the data\n",
    "X_poison = X.copy()\n",
    "y_poison = y.copy()\n",
    "X_poison[:10, 0] = X_poison[:10, 0] + 20  # Increase word frequency of \"free\"\n",
    "y_poison[:10] = 0  # Flip the labels to \"Not Spam\"\n",
    "\n",
    "# Retrain the logistic regression model with poisoned data\n",
    "model_poisoned = LogisticRegression()\n",
    "model_poisoned.fit(X_poison, y_poison)"
   ],
   "id": "aa8783291cf66cf0",
   "outputs": [],
   "execution_count": null
  },
  {
   "metadata": {},
   "cell_type": "code",
   "source": [
    "# Logistic Regression Decision Boundary\n",
    "plot_decision_boundary(X_poison, y_poison, model_poisoned)"
   ],
   "id": "1d1169527e7f39cd",
   "outputs": [],
   "execution_count": null
  },
  {
   "metadata": {},
   "cell_type": "code",
   "source": [
    "# Convert poisoned data to PyTorch tensors\n",
    "X_poison_tensor = torch.tensor(X_poison, dtype=torch.float32)\n",
    "y_poison_tensor = torch.tensor(y_poison, dtype=torch.float32).view(-1, 1)\n",
    "\n",
    "# Create a DataLoader for poisoned data\n",
    "poisoned_dataset = TensorDataset(X_poison_tensor, y_poison_tensor)\n",
    "poisoned_dataloader = DataLoader(poisoned_dataset, batch_size=16, shuffle=True)\n",
    "\n",
    "# Retrain the neural network with poisoned data\n",
    "nn_model_poisoned = SimpleNN()\n",
    "optimizer_poisoned = optim.Adam(nn_model_poisoned.parameters(), lr=0.01)\n",
    "\n",
    "# Train the poisoned model\n",
    "for epoch in range(200):\n",
    "    for batch_X, batch_y in poisoned_dataloader:\n",
    "        optimizer_poisoned.zero_grad()\n",
    "        outputs = nn_model_poisoned(batch_X)\n",
    "        loss = criterion(outputs, batch_y)\n",
    "        loss.backward()\n",
    "        optimizer_poisoned.step()"
   ],
   "id": "e8484a89a4323cb6",
   "outputs": [],
   "execution_count": null
  },
  {
   "metadata": {},
   "cell_type": "code",
   "source": "plot_nn_decision_boundary(X_poison, y_poison, nn_model_poisoned)",
   "id": "a0258d78543a5922",
   "outputs": [],
   "execution_count": null
  },
  {
   "metadata": {},
   "cell_type": "markdown",
   "source": "# Adversarial training",
   "id": "bdc18c1b751db01a"
  },
  {
   "metadata": {},
   "cell_type": "markdown",
   "source": [
    "- jako typ expertu zkusime tuto situaci nejak zachranit\n",
    "- zkusime se podivat na outliery\n",
    "- zkusime odstranit regiony kde je mozny unik pomoci posileni dat o male perturbace"
   ],
   "id": "40badcbebeaa80d2"
  },
  {
   "metadata": {},
   "cell_type": "code",
   "source": [
    "import torch\n",
    "\n",
    "\n",
    "def generate_adversarial_examples(model, X, y, epsilon=0.1):\n",
    "    # Set model to evaluation mode\n",
    "    model.eval()\n",
    "\n",
    "    # Convert data to PyTorch tensors\n",
    "    X_tensor = torch.tensor(X, dtype=torch.float32, requires_grad=True)\n",
    "    y_tensor = torch.tensor(y, dtype=torch.float32).view(-1, 1)\n",
    "\n",
    "    # Forward pass\n",
    "    outputs = model(X_tensor)\n",
    "    loss = criterion(outputs, y_tensor)\n",
    "\n",
    "    # Backward pass\n",
    "    model.zero_grad()\n",
    "    loss.backward()\n",
    "\n",
    "    # Collect the gradients of the input\n",
    "    data_grad = X_tensor.grad.data\n",
    "\n",
    "    # Create adversarial examples by adding a small perturbation\n",
    "    X_adversarial = X_tensor + epsilon * data_grad.sign()\n",
    "\n",
    "    # Ensure the adversarial examples are still in the same range as the original data\n",
    "    X_adversarial = torch.clamp(X_adversarial, min=X_tensor.min(), max=X_tensor.max())\n",
    "\n",
    "    return X_adversarial.detach().numpy()\n",
    "\n",
    "\n",
    "# Generate adversarial examples\n",
    "X_adversarial = generate_adversarial_examples(nn_model, X, y)"
   ],
   "id": "c379ce3df8cf4cc7",
   "outputs": [],
   "execution_count": null
  },
  {
   "metadata": {},
   "cell_type": "code",
   "source": "X",
   "id": "ea05f7841f7bc204",
   "outputs": [],
   "execution_count": null
  },
  {
   "metadata": {},
   "cell_type": "code",
   "source": "X_adversarial",
   "id": "c7e85c8b39f1a864",
   "outputs": [],
   "execution_count": null
  },
  {
   "metadata": {},
   "cell_type": "code",
   "source": [
    "# Plot the dataset\n",
    "plt.scatter(X_adversarial[:, 0], X_adversarial[:, 1], c=y, cmap='bwr', alpha=0.7)\n",
    "plt.xlabel('Word Frequency of \"Free\"')\n",
    "plt.ylabel('Email Length')\n",
    "plt.title('Email Spam Detection Dataset')\n",
    "plt.show()"
   ],
   "id": "29e0920cce10acc0",
   "outputs": [],
   "execution_count": null
  },
  {
   "metadata": {},
   "cell_type": "code",
   "source": [
    "# Combine original and adversarial data\n",
    "X_combined = np.vstack((X, X_adversarial))\n",
    "y_combined = np.hstack((y, y))\n",
    "\n",
    "# Convert combined data to PyTorch tensors\n",
    "X_combined_tensor = torch.tensor(X_combined, dtype=torch.float32)\n",
    "y_combined_tensor = torch.tensor(y_combined, dtype=torch.float32).view(-1, 1)\n",
    "\n",
    "# Create a DataLoader for combined data\n",
    "combined_dataset = TensorDataset(X_combined_tensor, y_combined_tensor)\n",
    "combined_dataloader = DataLoader(combined_dataset, batch_size=16, shuffle=True)\n",
    "\n",
    "# Define the adversarially trained neural network model\n",
    "nn_model_adv = SimpleNN()\n",
    "optimizer_adv = optim.Adam(nn_model_adv.parameters(), lr=0.01)\n",
    "\n",
    "# Train the adversarially trained model\n",
    "for epoch in range(200):\n",
    "    for batch_X, batch_y in combined_dataloader:\n",
    "        optimizer_adv.zero_grad()\n",
    "        outputs = nn_model_adv(batch_X)\n",
    "        loss = criterion(outputs, batch_y)\n",
    "        loss.backward()\n",
    "        optimizer_adv.step()"
   ],
   "id": "48764eb05826ff96",
   "outputs": [],
   "execution_count": null
  },
  {
   "metadata": {},
   "cell_type": "code",
   "source": "X_combined",
   "id": "13b1da9f0ed7035e",
   "outputs": [],
   "execution_count": null
  },
  {
   "metadata": {},
   "cell_type": "code",
   "source": [
    "# Plot the dataset\n",
    "plt.scatter(X_combined[:, 0], X_combined[:, 1], c=y_combined, cmap='bwr', alpha=0.7)\n",
    "plt.xlabel('Word Frequency of \"Free\"')\n",
    "plt.ylabel('Email Length')\n",
    "plt.title('Email Spam Detection Dataset')\n",
    "plt.show()"
   ],
   "id": "7dde3e63e386cdca",
   "outputs": [],
   "execution_count": null
  },
  {
   "metadata": {},
   "cell_type": "code",
   "source": [
    "# Neural Network Decision Boundary After Adversarial Training\n",
    "plot_nn_decision_boundary(X_poison, y_poison, nn_model_adv)\n"
   ],
   "id": "57fbee9fc36bd91",
   "outputs": [],
   "execution_count": null
  }
 ],
 "metadata": {
  "kernelspec": {
   "display_name": "Python 3",
   "language": "python",
   "name": "python3"
  },
  "language_info": {
   "codemirror_mode": {
    "name": "ipython",
    "version": 2
   },
   "file_extension": ".py",
   "mimetype": "text/x-python",
   "name": "python",
   "nbconvert_exporter": "python",
   "pygments_lexer": "ipython2",
   "version": "2.7.6"
  }
 },
 "nbformat": 4,
 "nbformat_minor": 5
}
