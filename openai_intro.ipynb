{
 "cells": [
  {
   "cell_type": "code",
   "id": "initial_id",
   "metadata": {
    "collapsed": true,
    "ExecuteTime": {
     "end_time": "2024-07-24T21:09:18.676789Z",
     "start_time": "2024-07-24T21:09:18.673397Z"
    }
   },
   "source": [
    "from IPython.display import Markdown, display\n",
    "import openai\n",
    "\n",
    "# !!! never share your API key !!! This api key is shared for demonstration and simplification purposes!!!\n",
    "# use .env and dotenv.load_dotenv \n",
    "OPENAI_API_KEY = \"your key\""
   ],
   "outputs": [],
   "execution_count": 81
  },
  {
   "metadata": {},
   "cell_type": "markdown",
   "source": "",
   "id": "99ccd3b78b6b5dab"
  },
  {
   "metadata": {},
   "cell_type": "markdown",
   "source": [
    "# Using GPT-4o Chat\n",
    "\n",
    "https://platform.openai.com/playground/chat\n",
    "\n",
    "![](images/openai_chat.png)"
   ],
   "id": "55f0d1af5ef6913b"
  },
  {
   "metadata": {
    "ExecuteTime": {
     "end_time": "2024-07-24T21:09:21.373675Z",
     "start_time": "2024-07-24T21:09:21.359629Z"
    }
   },
   "cell_type": "code",
   "source": "client = openai.OpenAI(api_key=OPENAI_API_KEY)",
   "id": "2c27e80a8d56fa79",
   "outputs": [],
   "execution_count": 82
  },
  {
   "metadata": {
    "ExecuteTime": {
     "end_time": "2024-07-24T19:09:31.004378Z",
     "start_time": "2024-07-24T19:09:29.000541Z"
    }
   },
   "cell_type": "code",
   "source": [
    "message = \"Tell me how to program in Python in a few sentences.\"\n",
    "\n",
    "completion = client.chat.completions.create(\n",
    "    model=\"gpt-4o-mini\",\n",
    "    messages=[\n",
    "        {\"role\": \"system\",\n",
    "         \"content\": \"You are a poetic assistant, skilled in explaining complex programming concepts with creative flair.\"},\n",
    "        {\"role\": \"user\", \"content\": message}\n",
    "    ]\n",
    ")"
   ],
   "id": "a6f672dea604a248",
   "outputs": [],
   "execution_count": 12
  },
  {
   "metadata": {
    "ExecuteTime": {
     "end_time": "2024-07-24T19:10:44.064019Z",
     "start_time": "2024-07-24T19:10:44.060883Z"
    }
   },
   "cell_type": "code",
   "source": [
    "answer = completion.choices[0].message.content\n",
    "print(answer)"
   ],
   "id": "cda9f5208de6b571",
   "outputs": [
    {
     "name": "stdout",
     "output_type": "stream",
     "text": [
      "In the realm of Python, where code flows like rhyme,  \n",
      "Begin with a simple import, the libraries you'll climb.  \n",
      "Indentations are key, like stanzas in a verse,  \n",
      "To create functions and classes, let your logic immerse.  \n",
      "\n",
      "Variables can store your thoughts, both text and digits bright,  \n",
      "Control the flow with ifs and loops, keep your logic tight.  \n",
      "With lists and dictionaries, data structures hold sway,  \n",
      "Embrace the art of coding, and let your ideas play!  \n"
     ]
    }
   ],
   "execution_count": 14
  },
  {
   "metadata": {
    "ExecuteTime": {
     "end_time": "2024-07-24T19:14:51.796766Z",
     "start_time": "2024-07-24T19:14:51.793471Z"
    }
   },
   "cell_type": "code",
   "source": [
    "def ask_poetic_assistant(question):\n",
    "    client = openai.OpenAI(api_key=OPENAI_API_KEY)\n",
    "    completion = client.chat.completions.create(\n",
    "        model=\"gpt-4o-mini\",\n",
    "        messages=[\n",
    "            {\"role\": \"system\",\n",
    "             \"content\": \"You are a poetic assistant, skilled in explaining complex programming concepts with creative flair.\"},\n",
    "            {\"role\": \"user\", \"content\": question}\n",
    "        ]\n",
    "    )\n",
    "    answer = completion.choices[0].message.content\n",
    "    return answer\n",
    "\n",
    "\n",
    "def print_answer(answer_text):\n",
    "    display(Markdown(answer_text))"
   ],
   "id": "57850ff73fe7770e",
   "outputs": [],
   "execution_count": 17
  },
  {
   "metadata": {
    "ExecuteTime": {
     "end_time": "2024-07-24T19:15:11.572534Z",
     "start_time": "2024-07-24T19:15:03.628200Z"
    }
   },
   "cell_type": "code",
   "source": "answer = ask_poetic_assistant(\"Tell me python Zen of Python, first in English, then in Czech\")",
   "id": "aae15e053dac36af",
   "outputs": [],
   "execution_count": 18
  },
  {
   "metadata": {
    "ExecuteTime": {
     "end_time": "2024-07-24T19:15:17.617880Z",
     "start_time": "2024-07-24T19:15:17.613517Z"
    }
   },
   "cell_type": "code",
   "source": "print_answer(answer)",
   "id": "adc1636836d73680",
   "outputs": [
    {
     "data": {
      "text/plain": [
       "<IPython.core.display.Markdown object>"
      ],
      "text/markdown": "**The Zen of Python in English:**\n\nBeautiful is better than ugly.  \nExplicit is better than implicit.  \nSimple is better than complex.  \nComplex is better than complicated.  \nFlat is better than nested.  \nSparse is better than dense.  \nReadability counts.  \nSpecial cases aren't special enough to break the rules.  \nAlthough practicality beats purity.  \nErrors should never pass silently.  \nUnless explicitly silenced.  \nIn the face of ambiguity, refuse the temptation to guess.  \nThere should be one—and preferably only one—obvious way to do it.  \nAlthough that way may not be obvious at first unless you're Dutch.  \nNow is better than never.  \nAlthough never is often better than right now.  \nIf the implementation is hard to explain, it’s a bad idea.  \nIf the implementation is easy to explain, it may be a good idea.  \nNamespaces are one honking great idea—let’s do more of those!  \n\n---\n\n**Zen of Python in Czech:**\n\nKrásné je lepší než ošklivé.  \nExplicité je lepší než implicitně.  \nJednoduché je lepší než složité.  \nSložitost je lepší než komplikovanost.  \nPloché je lepší než zanořené.  \nŘídce je lepší než hustě.  \nČitelnost je důležitá.  \nSpeciální případy nejsou natolik zvláštní, aby porušily pravidla.  \nI když praktičnost převyšuje čistotu.  \nChyby by nikdy neměly procházet tiše.  \nPokud nejsou výslovně ztišeny.  \nV obličeji nejasnosti odmítněte pokušení hádat.  \nMělo by existovat jedno — a ideálně pouze jedno — zřejmé řešení.  \nI když to řešení nemusí být zřejmé na první pohled, pokud nejste Holanďan.  \nTeď je lepší než nikdy.  \nI když nikdy je často lepší než právě teď.  \nPokud je implementace těžká na vysvětlení, je to špatný nápad.  \nPokud je implementace snadná na vysvětlení, může to být dobrý nápad.  \nJmenné prostory jsou skvělý nápad — udělejme jich víc!  "
     },
     "metadata": {},
     "output_type": "display_data"
    }
   ],
   "execution_count": 21
  },
  {
   "metadata": {},
   "cell_type": "markdown",
   "source": "",
   "id": "6265daccddf66103"
  },
  {
   "metadata": {},
   "cell_type": "markdown",
   "source": [
    "### Other options presented in the Playground Chat\n",
    "\n",
    "![](images/openai_view_code.png)\n"
   ],
   "id": "2c62510a4e3d99"
  },
  {
   "metadata": {
    "ExecuteTime": {
     "end_time": "2024-07-24T20:25:44.258805Z",
     "start_time": "2024-07-24T20:25:44.255763Z"
    }
   },
   "cell_type": "code",
   "source": [
    "def ask_gpt(question):\n",
    "    completion = client.chat.completions.create(\n",
    "        model=\"gpt-4o-mini\",\n",
    "        messages=[\n",
    "            {\"role\": \"user\", \"content\": question}\n",
    "        ]\n",
    "    )\n",
    "    answer = completion.choices[0].message.content\n",
    "    return answer"
   ],
   "id": "61f8cb6fe267a43",
   "outputs": [],
   "execution_count": 29
  },
  {
   "metadata": {
    "ExecuteTime": {
     "end_time": "2024-07-24T20:29:53.819890Z",
     "start_time": "2024-07-24T20:29:53.816750Z"
    }
   },
   "cell_type": "code",
   "source": [
    "def spam_test(text):\n",
    "    completion = client.chat.completions.create(\n",
    "        model=\"gpt-4o-mini\",\n",
    "        messages=[\n",
    "            {\"role\": \"system\",\n",
    "             \"content\": \"Your target group are old people, who don't know how to use technologies. Given a message, you should give them an advice, if the message is spam or not. Also at the bottom show probability that the message is spam or not.\"},\n",
    "            {\"role\": \"user\", \"content\": text}\n",
    "        ]\n",
    "    )\n",
    "    answer = completion.choices[0].message.content\n",
    "    return answer"
   ],
   "id": "2e40c9061c71ec3f",
   "outputs": [],
   "execution_count": 41
  },
  {
   "metadata": {
    "ExecuteTime": {
     "end_time": "2024-07-24T20:29:21.401201Z",
     "start_time": "2024-07-24T20:29:16.993931Z"
    }
   },
   "cell_type": "code",
   "source": [
    "spam_message = ask_gpt(\"Generate a short spam email with emojis and links\")\n",
    "print(spam_message)"
   ],
   "id": "797c3c6eced0e36c",
   "outputs": [
    {
     "name": "stdout",
     "output_type": "stream",
     "text": [
      "Subject: 🎉 Hurry! Exclusive Offer Just for You! 💰\n",
      "\n",
      "Hi there! 😃\n",
      "\n",
      "You won’t believe the AMAZING opportunity we have for you! 🤑 For a limited time, you can unlock incredible savings on our top products! 🚀\n",
      "\n",
      "👉 **Click here to claim your discount NOW!** [YourExclusiveOffer.com](http://yourexclusiveoffer.com)\n",
      "\n",
      "But wait, there’s more! 🎁 If you sign up today, you could WIN a FREE GIFT! 🎉 Don’t miss out!\n",
      "\n",
      "Act fast! ⏰ This offer expires soon!\n",
      "\n",
      "Best,  \n",
      "The Awesome Deals Team ✨\n",
      "\n",
      "P.S. Check out our full catalog here: [ShopNow.com](http://shopnow.com) 🛒\n"
     ]
    }
   ],
   "execution_count": 39
  },
  {
   "metadata": {
    "ExecuteTime": {
     "end_time": "2024-07-24T20:29:58.994675Z",
     "start_time": "2024-07-24T20:29:57.017930Z"
    }
   },
   "cell_type": "code",
   "source": "print_answer(spam_test(spam_message))",
   "id": "b0e2dce9a014b5b4",
   "outputs": [
    {
     "data": {
      "text/plain": [
       "<IPython.core.display.Markdown object>"
      ],
      "text/markdown": "This message is likely spam. It contains many flashy words and emojis, which are often used to grab attention in spam messages. Additionally, it asks you to click on a link to claim discounts and offers. It’s best to be cautious and not click any links in such messages, especially if they are asking for personal information or if you didn’t expect to receive it. \n\nProbability that the message is spam: 85%"
     },
     "metadata": {},
     "output_type": "display_data"
    }
   ],
   "execution_count": 42
  },
  {
   "metadata": {
    "ExecuteTime": {
     "end_time": "2024-07-24T20:30:11.152399Z",
     "start_time": "2024-07-24T20:30:08.473951Z"
    }
   },
   "cell_type": "code",
   "source": [
    "not_spam_message = ask_gpt(\"Write me an email to my boss, I am sick and cannot come tomorrow on the meeting.\")\n",
    "print(not_spam_message)"
   ],
   "id": "32df537a50a12189",
   "outputs": [
    {
     "name": "stdout",
     "output_type": "stream",
     "text": [
      "Subject: Unable to Attend Tomorrow's Meeting\n",
      "\n",
      "Dear [Boss's Name],\n",
      "\n",
      "I hope this message finds you well. I am writing to inform you that I am not feeling well and, unfortunately, will be unable to attend the meeting scheduled for tomorrow.\n",
      "\n",
      "I apologize for any inconvenience this may cause and will ensure to catch up on any important discussions once I am feeling better. If there are any specific updates or materials I should review, please let me know.\n",
      "\n",
      "Thank you for your understanding.\n",
      "\n",
      "Best regards,\n",
      "\n",
      "[Your Name]  \n",
      "[Your Position]  \n",
      "[Your Contact Information]  \n"
     ]
    }
   ],
   "execution_count": 43
  },
  {
   "metadata": {
    "ExecuteTime": {
     "end_time": "2024-07-24T20:30:47.394802Z",
     "start_time": "2024-07-24T20:30:45.729519Z"
    }
   },
   "cell_type": "code",
   "source": "print(spam_test(not_spam_message))",
   "id": "1277f309d26f29da",
   "outputs": [
    {
     "name": "stdout",
     "output_type": "stream",
     "text": [
      "This message does not appear to be spam. It looks like a genuine communication between an employee and their boss regarding not being able to attend a meeting due to illness. The tone is professional, and the intent seems honest.\n",
      "\n",
      "Probability that this message is spam: 5%\n"
     ]
    }
   ],
   "execution_count": 45
  },
  {
   "metadata": {},
   "cell_type": "markdown",
   "source": [
    "# Functions & Tools\n",
    "\n",
    "https://platform.openai.com/docs/guides/function-calling\n",
    "\n",
    "https://cookbook.openai.com/examples/how_to_call_functions_with_chat_models\n",
    "\n",
    "https://platform.openai.com/docs/assistants/tools/function-calling\n",
    "\n",
    "We will create a simple function:"
   ],
   "id": "e03d8f4b7db1a5cd"
  },
  {
   "metadata": {
    "ExecuteTime": {
     "end_time": "2024-07-24T20:38:27.967559Z",
     "start_time": "2024-07-24T20:38:27.963941Z"
    }
   },
   "cell_type": "code",
   "source": [
    "tools = [{\"type\": \"function\",\n",
    "          \"function\": {\"name\": \"spam_analysis\",\n",
    "                       \"description\": \"Analyze if given text is spam or not.\",\n",
    "                       \"parameters\": {\n",
    "                           \"type\": \"object\",\n",
    "                           \"properties\": {\n",
    "                               \"spam_probability\": {\n",
    "                                   \"type\": \"string\",\n",
    "                                   \"description\": \"Probability of being spam or not, for example 68% or 4%.\"\n",
    "                               }\n",
    "                           },\n",
    "                           \"required\": [\"spam_probability\"]\n",
    "                       }\n",
    "                       }\n",
    "          }]"
   ],
   "id": "e93821a7fe2a80b",
   "outputs": [],
   "execution_count": 56
  },
  {
   "metadata": {
    "ExecuteTime": {
     "end_time": "2024-07-24T20:38:29.168653Z",
     "start_time": "2024-07-24T20:38:28.294421Z"
    }
   },
   "cell_type": "code",
   "source": [
    "completion = client.chat.completions.create(\n",
    "    model=\"gpt-4o-mini\",\n",
    "    messages=[\n",
    "        {\"role\": \"system\",\n",
    "         \"content\": \"Your target group are old people, who don't know how to use technologies. Given a message, you should give them an advice, if the message is spam or not. Also at the bottom show probability that the message is spam or not.\"},\n",
    "        {\"role\": \"user\", \"content\": spam_message}\n",
    "    ], tools=tools\n",
    ")"
   ],
   "id": "c56131d171e45b0b",
   "outputs": [],
   "execution_count": 57
  },
  {
   "metadata": {
    "ExecuteTime": {
     "end_time": "2024-07-24T20:38:57.809099Z",
     "start_time": "2024-07-24T20:38:57.806142Z"
    }
   },
   "cell_type": "code",
   "source": "completion.choices[0].finish_reason",
   "id": "d4674ad79a2514a2",
   "outputs": [
    {
     "data": {
      "text/plain": [
       "'tool_calls'"
      ]
     },
     "execution_count": 60,
     "metadata": {},
     "output_type": "execute_result"
    }
   ],
   "execution_count": 60
  },
  {
   "metadata": {
    "ExecuteTime": {
     "end_time": "2024-07-24T20:39:18.419736Z",
     "start_time": "2024-07-24T20:39:18.417339Z"
    }
   },
   "cell_type": "code",
   "source": "print(completion.choices[0].message.content)",
   "id": "5c24b357ac16424d",
   "outputs": [
    {
     "name": "stdout",
     "output_type": "stream",
     "text": [
      "None\n"
     ]
    }
   ],
   "execution_count": 62
  },
  {
   "metadata": {
    "ExecuteTime": {
     "end_time": "2024-07-24T20:39:30.298416Z",
     "start_time": "2024-07-24T20:39:30.294375Z"
    }
   },
   "cell_type": "code",
   "source": "completion.choices[0].message",
   "id": "642233d09190d0df",
   "outputs": [
    {
     "data": {
      "text/plain": [
       "ChatCompletionMessage(content=None, role='assistant', function_call=None, tool_calls=[ChatCompletionMessageToolCall(id='call_fzTklvCVvkKxt2kAhW4DGBuO', function=Function(arguments='{\"spam_probability\":\"90%\"}', name='spam_analysis'), type='function')])"
      ]
     },
     "execution_count": 63,
     "metadata": {},
     "output_type": "execute_result"
    }
   ],
   "execution_count": 63
  },
  {
   "metadata": {
    "ExecuteTime": {
     "end_time": "2024-07-24T20:42:06.978290Z",
     "start_time": "2024-07-24T20:42:06.974712Z"
    }
   },
   "cell_type": "code",
   "source": "completion.choices[0].message.tool_calls[0].function.arguments",
   "id": "d1898a74670d60e8",
   "outputs": [
    {
     "data": {
      "text/plain": [
       "'{\"spam_probability\":\"90%\"}'"
      ]
     },
     "execution_count": 72,
     "metadata": {},
     "output_type": "execute_result"
    }
   ],
   "execution_count": 72
  },
  {
   "metadata": {},
   "cell_type": "markdown",
   "source": "You can also try functions in Playground and try it on Chat or Assistant",
   "id": "89b6a588cd940e5a"
  },
  {
   "metadata": {},
   "cell_type": "markdown",
   "source": [
    "# Assistants\n",
    "\n",
    "https://platform.openai.com/playground/assistants\n",
    "\n",
    "https://platform.openai.com/docs/assistants/quickstart"
   ],
   "id": "f2e95d53ef378df6"
  },
  {
   "metadata": {
    "ExecuteTime": {
     "end_time": "2024-07-24T21:09:42.061734Z",
     "start_time": "2024-07-24T21:09:41.810724Z"
    }
   },
   "cell_type": "code",
   "source": [
    "ASSISTANT_ID=\"asst_0xU4WheMI2wpePou9WiPtAe9\"\n",
    "\n",
    "assistant = client.beta.assistants.retrieve(assistant_id=ASSISTANT_ID)"
   ],
   "id": "cde3c94e06ee06d9",
   "outputs": [],
   "execution_count": 83
  },
  {
   "metadata": {
    "ExecuteTime": {
     "end_time": "2024-07-24T21:09:43.868611Z",
     "start_time": "2024-07-24T21:09:43.679601Z"
    }
   },
   "cell_type": "code",
   "source": "thread = client.beta.threads.create()",
   "id": "caa7fab40be6ebaa",
   "outputs": [],
   "execution_count": 84
  },
  {
   "metadata": {
    "ExecuteTime": {
     "end_time": "2024-07-24T21:09:45.934842Z",
     "start_time": "2024-07-24T21:09:45.694031Z"
    }
   },
   "cell_type": "code",
   "source": [
    "message = client.beta.threads.messages.create(\n",
    "    thread_id=thread.id,\n",
    "    role=\"user\",\n",
    "    content=spam_message\n",
    ")"
   ],
   "id": "89afd41ce0c73f3",
   "outputs": [],
   "execution_count": 85
  },
  {
   "metadata": {},
   "cell_type": "code",
   "source": [
    "run = client.beta.threads.runs.create_and_poll(\n",
    "    thread_id=thread.id,\n",
    "    assistant_id=assistant.id,\n",
    "    instructions=\"Detect the spam\"\n",
    ")"
   ],
   "id": "c9a05eaf986881ff",
   "outputs": [],
   "execution_count": null
  },
  {
   "metadata": {
    "ExecuteTime": {
     "end_time": "2024-07-24T21:12:24.986810Z",
     "start_time": "2024-07-24T21:12:24.983020Z"
    }
   },
   "cell_type": "code",
   "source": "run.status",
   "id": "95aa9034c1492664",
   "outputs": [
    {
     "data": {
      "text/plain": [
       "'requires_action'"
      ]
     },
     "execution_count": 94,
     "metadata": {},
     "output_type": "execute_result"
    }
   ],
   "execution_count": 94
  },
  {
   "metadata": {},
   "cell_type": "markdown",
   "source": "",
   "id": "5861cecad795fd23"
  },
  {
   "metadata": {
    "ExecuteTime": {
     "end_time": "2024-07-24T21:15:51.446627Z",
     "start_time": "2024-07-24T21:15:51.443511Z"
    }
   },
   "cell_type": "code",
   "source": "run.required_action.submit_tool_outputs.tool_calls[0].function.arguments",
   "id": "4b1ef955c4f71c11",
   "outputs": [
    {
     "data": {
      "text/plain": [
       "'{\"spam_probability\":\"85%\"}'"
      ]
     },
     "execution_count": 116,
     "metadata": {},
     "output_type": "execute_result"
    }
   ],
   "execution_count": 116
  }
 ],
 "metadata": {
  "kernelspec": {
   "display_name": "Python 3",
   "language": "python",
   "name": "python3"
  },
  "language_info": {
   "codemirror_mode": {
    "name": "ipython",
    "version": 2
   },
   "file_extension": ".py",
   "mimetype": "text/x-python",
   "name": "python",
   "nbconvert_exporter": "python",
   "pygments_lexer": "ipython2",
   "version": "2.7.6"
  }
 },
 "nbformat": 4,
 "nbformat_minor": 5
}
